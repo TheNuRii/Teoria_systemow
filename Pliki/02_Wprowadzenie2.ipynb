{
 "metadata": {
  "language_info": {
   "codemirror_mode": {
    "name": "ipython",
    "version": 3
   },
   "file_extension": ".py",
   "mimetype": "text/x-python",
   "name": "python",
   "nbconvert_exporter": "python",
   "pygments_lexer": "ipython3",
   "version": "3.7.7-final"
  },
  "orig_nbformat": 2,
  "kernelspec": {
   "name": "python_defaultSpec_1599661711756",
   "display_name": "Python 3.7.7 64-bit"
  }
 },
 "nbformat": 4,
 "nbformat_minor": 2,
 "cells": [
  {
   "cell_type": "markdown",
   "metadata": {},
   "source": [
    "----\n",
    "# Wprowadzenie - część 2\n",
    "----\n",
    "Materiały dydaktyczne przeznaczone są wyłącznie dla studentów wydziału Informatyki i Telekomunikacji Politechniki Poznańskiej "
   ]
  },
  {
   "cell_type": "markdown",
   "metadata": {},
   "source": [
    "## 0. Zagadnienia do opanowania przed zajęciami\n",
    "### 0.1. Zapoznanie z podstawami językiem programowania *Python*\n",
    "https://www.w3schools.com/python/python_intro.asp  \n",
    "### 0.2. Zapoznanie z postawami biblioteki *numpy*\n",
    "https://www.w3schools.com/python/numpy_intro.asp  \n",
    "https://numpy.org/devdocs/user/quickstart.html  "
   ]
  },
  {
   "cell_type": "code",
   "execution_count": null,
   "metadata": {},
   "outputs": [],
   "source": [
    "%matplotlib inline\n",
    "import numpy as np\n",
    "import matplotlib.pyplot as plt\n",
    "default_figsize=(14, 8)\n",
    "\n",
    "test_vec =  np.array([-1, 1, 0, 4, -3, -6, 7, 9, 1, 4, -9, -5])\n",
    "test_poly = np.poly1d([1, 2, -5])"
   ]
  },
  {
   "cell_type": "markdown",
   "metadata": {},
   "source": [
    "----\n",
    "## 1. Zadania do samodzielnego wykonania\n",
    "----\n",
    "### Zadanie A\n",
    "Napisz i przetestuj funkcję traktującą wejściowy wektor jako próbki przebiegu funkcji i rysującą jej wykres w postaci punktów z 10% zapasem na osi.\n"
   ]
  },
  {
   "cell_type": "code",
   "execution_count": null,
   "metadata": {},
   "outputs": [],
   "source": [
    "def taskA(y):\n",
    "    return\n",
    "\n",
    "taskA(test_vec)\n"
   ]
  },
  {
   "cell_type": "markdown",
   "metadata": {},
   "source": [
    "### Zadanie B\n",
    "Napisz i przetestuj funkcję sortującą i wypisującą elementy wektora wejściowego w porządku zgodnym ze wzrostem modułu.  \n",
    "\n",
    "Demonstaracja działania najpopularniejszych algorytmów sortowania https://www.toptal.com/developers/sorting-algorithms/\n"
   ]
  },
  {
   "cell_type": "code",
   "execution_count": null,
   "metadata": {
    "tags": []
   },
   "outputs": [],
   "source": [
    "def taskB(data):\n",
    "    return\n",
    "\n",
    "taskB(test_vec)"
   ]
  },
  {
   "cell_type": "markdown",
   "metadata": {},
   "source": [
    "### Zadanie C\n",
    "Napisz i przetestuj funkcję wyznaczającą pierwiastki wielomianu kwadratowego opisanego wektorem wejściowym (uwaga - nie wolno wykorzystywać funkcji roots), oraz generującą jego wykres (w zakresie $<-4,4>$)."
   ]
  },
  {
   "cell_type": "code",
   "execution_count": null,
   "metadata": {
    "tags": []
   },
   "outputs": [],
   "source": [
    "import math\n",
    "\n",
    "def taskC(polynom):\n",
    "    return\n",
    "\n",
    "taskC(test_poly)"
   ]
  },
  {
   "cell_type": "markdown",
   "metadata": {},
   "source": [
    "### Zadanie D\n",
    "Napisz i przetestuj funkcję o argumentach będących współczynnikami wielomianu kwadratowego oraz zakresem i dokładnością punktów dziedziny, wykreślającą ten wielomian w podanym zakresie."
   ]
  },
  {
   "cell_type": "code",
   "execution_count": null,
   "metadata": {},
   "outputs": [],
   "source": [
    "def taskD(polynom, xrange, num_points):\n",
    "    return\n",
    "\n",
    "taskD(test_poly, [-6, 4], 400)"
   ]
  },
  {
   "cell_type": "markdown",
   "metadata": {},
   "source": [
    "----\n",
    "## 2. Zadania dodatkowe\n",
    "----\n",
    "### Zadanie\tE\n",
    "Napisz i przetestuj funkcję wyliczającą wyznacznik macierzy. Porównać z wynikami generowanymi przez funkcję det().\n",
    "### Zadanie\tF\n",
    "Napisz prosty kalkulator. Funkcja pobiera argument w postaci  polecenia, np. „3-6” i zwraca wynik działania. Zaimplementować operacje +.-,*,/. \n",
    "### Zadanie G\n",
    "Napisz funkcję tłumaczącą zapis wektorowy wielomianu na zapis tekstowy\n",
    "### Zadanie H\n",
    "Napisz funkcję rysującą trójkąt o zadanych (do wyboru):\n",
    "* długościach 3 boków (tw. cosinusów),\n",
    "* długościach 2 boków i kąta między nimi (łatwiej)."
   ]
  }
 ]
}