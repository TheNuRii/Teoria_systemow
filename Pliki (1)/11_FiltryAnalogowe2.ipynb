{
 "metadata": {
  "language_info": {
   "codemirror_mode": {
    "name": "ipython",
    "version": 3
   },
   "file_extension": ".py",
   "mimetype": "text/x-python",
   "name": "python",
   "nbconvert_exporter": "python",
   "pygments_lexer": "ipython3",
   "version": "3.8.3-final"
  },
  "orig_nbformat": 2,
  "kernelspec": {
   "name": "python3",
   "display_name": "Python 3",
   "language": "python"
  }
 },
 "nbformat": 4,
 "nbformat_minor": 2,
 "cells": [
  {
   "source": [
    "----\n",
    "# Laboratorium 10 - Filtry analogowe, część 2\n",
    "\n",
    "----\n",
    "Materiały dydaktyczne przeznaczone są wyłącznie dla studentów wydziału Informatyki i Telekomunikacji Politechniki Poznańskiej"
   ],
   "cell_type": "markdown",
   "metadata": {}
  },
  {
   "source": [
    "----\n",
    "## 0. Zagadnienia do opanowania przed zajęciami\n",
    "----\n",
    "### 0.1. Obsługa języka Python oraz bibliotek `numpy`, `matplotlib`, `imageio` oraz `scipy.signal`.\n",
    "### 0.2. Przypomnienie wiadomości o filtrach analogowych\n",
    "### 0.3. Moduł transmitancji i tłumienie\n",
    "### 0.4. Gabaryty filtru\n",
    "### 0.5. Aproksymacje Butterwortha, Czebyszewa (1 i 2 rodzaju) i Cauera (eliptyczna)\n",
    "### 0.6  Gabaryty filtrów pasmowo-przepustowych i pasmowo zaporowych\n",
    "\n",
    "# 0.7 FUNKCJA DO PROJEKTOWANIA FILTRÓW I WYSWIETLANIA ICH CHARAKTERYSTYKI AMPLITUDOWEJ Z POPRZEDNICH ZAJEĆ\n"
   ],
   "cell_type": "markdown",
   "metadata": {}
  },
  {
   "cell_type": "code",
   "execution_count": null,
   "metadata": {},
   "outputs": [],
   "source": [
    "%matplotlib inline\n",
    "import sympy \n",
    "import scipy.signal \n",
    "import numpy as np\n",
    "import matplotlib.pyplot as plt \n",
    "defFigSize = [18,8]"
   ]
  },
  {
   "source": [
    "----\n",
    "Do poniższego bloku wklej zadanie 5 (funkcja do projektowania i wyświetlania filtru o zadanych gabarytach). Funkcja ta będzie potrzebna do wykonania ćwiczenia) "
   ],
   "cell_type": "markdown",
   "metadata": {}
  },
  {
   "cell_type": "code",
   "execution_count": null,
   "metadata": {},
   "outputs": [],
   "source": [
    "def designFilter(charType =  'butt',type = 'low', wp = 3,ws = 8, gpass = 3, gstop = 80, w_min =-2, w_max=2) : \n",
    "    return\n",
    "\n",
    "#usege example\n",
    "#designFilter('butt',type = 'bandstop',wp = [14, 60],ws = [20, 50], gpass = 8, gstop = 80)"
   ]
  },
  {
   "source": [
    "----\n",
    "###Wskazówki dla prowadzącego \n",
    "- Przed pierwszym zadaniem warto rozrysowć gabaryty (dla tłumienia i charakterystyki amplitudowej) filtrów pasmowych"
   ],
   "cell_type": "markdown",
   "metadata": {}
  },
  {
   "source": [
    "----  \n",
    "### Zadanie 1 \n",
    "Zaprojektuj filtr pasmowo przepustowy sepłnające następujące gabaryty:   \n",
    "    - pasmo przepustowe dla pulsacji w zakresie wp1  = 3 rad/s  : wp2= 4 rad/s,  \n",
    "    - pasmo zaporowe dla pulsacji: ws1 = 1rad/s,   oraz ws2 = 8 rad/s\n",
    "    - dopuszczalne tłumienie w paśmi przepustowym:  3dB  \n",
    "    - minimalne tłumienie w paśmie zaporowym: 50dB   \n",
    "\n",
    "Zadanie wykonaj dla 4 aproksymacji, Butterwortha, Czebyszewa typu 1 i 2 oar Eliptyczneej. \n",
    "\n",
    "Podpowiedz:  \n",
    "    - funkcję `scipy.signal.butter`, `scipy.signal.cheby1`, `scipy.signal.cheby2`, `scipy.signal.ellip`, wykorzystuje się tak samo. Zamiast wartości skalarnych dla granicy pasm zaporowego i przepustowego należy podać wektory z granicami pasm zaporowych oraz przedziałęm pasma przepustowego (w kolejności rosnącej). Wystarczy więc podać wektory zamiast skalarów na wejscie funkcji"
   ],
   "cell_type": "markdown",
   "metadata": {}
  },
  {
   "cell_type": "code",
   "execution_count": null,
   "metadata": {},
   "outputs": [],
   "source": [
    "\n",
    "#design and display filters\n",
    "#Butterworht\n",
    "\n",
    "#Cheby1\n",
    "\n",
    "#cheby2\n",
    "\n",
    "#Ellip\n",
    "\n",
    "#design and display filters\n",
    "#Butterworht\n",
    "\n",
    "#Cheby1\n",
    "\n",
    "#cheby2\n",
    "\n",
    "#Ellip"
   ]
  },
  {
   "source": [
    "----  \n",
    "### Zadanie 2 \n",
    "Zaprojektuj filtr pasmowo zaporowy sepłnające następujące gabaryty:   \n",
    "    - pasmo przepustowe dla pulsacji w zakresie wp1  = 1 rad/s  : wp2= 8 rad/s,  \n",
    "    - pasmo zaporowe dla pulsacji: ws1 = 3rad/s,   oraz ws2 = 4 rad/s\n",
    "    - dopuszczalne tłumienie w paśmi przepustowym:  3dB  \n",
    "    - minimalne tłumienie w paśmie zaporowym: 50dB   \n",
    "\n",
    "Zadanie wykonaj dla 4 aproksymacji, Butterwortha, Czebyszewa typu 1 i 2 oar Eliptyczneej. "
   ],
   "cell_type": "markdown",
   "metadata": {}
  },
  {
   "cell_type": "code",
   "execution_count": null,
   "metadata": {},
   "outputs": [],
   "source": [
    "\n",
    "#design and display filters\n",
    "#Butterworht\n",
    "\n",
    "#Cheby1\n",
    "\n",
    "#cheby2\n",
    "\n",
    "#Ellip\n",
    "\n",
    "#design and display filters\n",
    "#Butterworht\n",
    "\n",
    "#Cheby1\n",
    "\n",
    "#cheby2\n",
    "\n",
    "#Ellip"
   ]
  },
  {
   "source": [
    "----"
   ],
   "cell_type": "markdown",
   "metadata": {}
  },
  {
   "cell_type": "code",
   "execution_count": null,
   "metadata": {},
   "outputs": [],
   "source": [
    "import ipywidgets\n",
    "\n",
    "class elitIny : \n",
    "    def __init__(self,fOrder,W_p,fType) :\n",
    "        self.filterOrder = fOrder\n",
    "        self.Wp          = W_p\n",
    "        self.filterType  = fType\n",
    "        self.figSize     = [8,8]\n",
    "\n",
    "    def ellipInteractive(self,w_min,w_max) :\n",
    "        if (w_min >=  w_max) :\n",
    "            print(\"w_min > w_max\")\n",
    "            return  \n",
    "        B, A = scipy.signal.ellip(N = self.filterOrder,rp=3,rs=30  ,Wn = self.Wp, btype=self.filterType, analog=True, output='ba') \n",
    "        #display characteristics\n",
    "        plt.figure(figsize=self.figSize)\n",
    "        w = np.logspace(np.log10(w_min),np.log10(w_max),10000)\n",
    "        H = scipy.signal.freqs(B, A, w)[1]\n",
    "        M = 20*np.log10(np.abs(H,dtype = np.double)) \n",
    "        #display figure\n",
    "        plt.figure(figsize=defFigSize)\n",
    "        plt.semilogx(w, M,label= \"elip, rząd filtru: %d\"%(self.filterOrder))\n",
    "        plt.title(\"charakterystyka amplitudowa\")\n",
    "        plt.xlabel(\"ω [rad/s]\")\n",
    "        plt.ylabel(\"20log10(|H(jω)|)   [dB]\")\n",
    "        plt.show()\n",
    "    \n",
    "    def createDemo(self, FigSize=(12, 8)):\n",
    "        self.figSize = FigSize\n",
    "        return ipywidgets.interactive(elipInter.ellipInteractive, w_min=ipywidgets.FloatLogSlider(value=0.01,\n",
    "                                                                                          base=10,\n",
    "                                                                                          min=-2, # max exponent of base\n",
    "                                                                                          max=2, # min exponent of base\n",
    "                                                                                          step=0.1, # exponent step\n",
    "                                                                                          description='w_min'),\n",
    "                                                          w_max=ipywidgets.FloatLogSlider(value=100,\n",
    "                                                                                          base=10,\n",
    "                                                                                          min=-2, # max exponent of base\n",
    "                                                                                          max=2, # min exponent of base\n",
    "                                                                                          step=0.01, # exponent step\n",
    "                                                                                          description='w_max'))\n"
   ]
  },
  {
   "source": [
    "----  \n",
    "### Zadanie 3\n",
    "Sprawdź, ile zer transmisji i ile zer tłumienia mają następujące filtry o aproksymacji eliptycznej. Dla jakich wartości pulsacji występują te miejsca charakterystyczne? Proszę przyjąć αp = 3dB, αs = 30dB.  \n",
    "- a) filtr dolnoprzepustowy o pulsacji granicznej 10 rad/s o stopniu 5\n",
    "- b) filtr dolnoprzepustowy o pulsacji granicznej 10 rad/s o stopniu 6\n",
    "- c) filtr pasmowozaporowy o pulsacajach granicznych pasma przepustowego 3 rad/s i 5 rad/s. Stopień dolnoprzepustowego filtru prototypowego wynosi 5.\n",
    "- d) filtr pasmowozaporowy o pulsacajach granicznych pasma przepustowego 3 rad/s i 5 rad/s. Stopień dolnoprzepustowego filtru prototypowego wynosi 6"
   ],
   "cell_type": "markdown",
   "metadata": {}
  },
  {
   "source": [
    "w_min = 0.01\n",
    "w_max = 100\n",
    "fOrder  = \n",
    "W_p     = \n",
    "fType   =  \n",
    "\n",
    "elipInter = elitIny(fOrder,W_p,fType)\n",
    "\n",
    "Demo = elipInter.createDemo(defFigSize)\n",
    "\n",
    "Demo\n",
    "\n",
    "\n"
   ],
   "cell_type": "code",
   "metadata": {},
   "execution_count": null,
   "outputs": []
  }
 ]
}