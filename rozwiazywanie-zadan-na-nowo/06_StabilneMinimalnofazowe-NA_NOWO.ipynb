{
 "cells": [
  {
   "cell_type": "markdown",
   "metadata": {},
   "source": [
    "----\n",
    "# Laboratorium 6 - Układy stabilne i minimalnofazowe\n",
    "----\n",
    "Materiały dydaktyczne przeznaczone są wyłącznie dla studentów Wydziału Informatyki i Telekomunikacji Politechniki Poznańskiej "
   ]
  },
  {
   "cell_type": "markdown",
   "metadata": {},
   "source": [
    "----\n",
    "## 0. Zagadnienia do opanowania przed zajęciami\n",
    "----\n",
    "\n",
    "* badanie stabilności układu (stabilność w sensie BIBO) \n",
    "* analiza układów zamkniętych pętlą sprzężenia zwrotnego\n",
    "* analiza układów minimalnofazowych\n",
    "* zera i bieguny transmitancji  \n",
    "\n",
    "Funkcje z biblioteki *scipy.signal* potrzebne do zrealizowania ćwiczenia:  \n",
    "`scipy.signal.freqresp`, `scipy.signal.signal.tf2ss`,  `scipy.signal.impulse`\n",
    "\n",
    "Dokumentacja i opisy poszczególnych funkcji *scipy.signal*:  \n",
    "https://docs.scipy.org/doc/scipy/reference/signal.html    \n",
    "\n"
   ]
  },
  {
   "cell_type": "code",
   "execution_count": null,
   "metadata": {},
   "outputs": [],
   "source": [
    "%matplotlib inline\n",
    "import numpy as np\n",
    "import matplotlib.pyplot as plt\n",
    "import scipy.signal\n",
    "poles_figsize  =(8, 8)\n",
    "default_figsize=(14, 8)"
   ]
  },
  {
   "source": [
    "---- \n",
    "## 1. Pojęcie stabilności\n",
    "---- \n",
    "* Co to znaczy że układ jest stabilny?\n",
    "* Jakie są kryteria stabilności?\n",
    "* Jak sprawdzić czy układ jest stabilny?"
   ],
   "cell_type": "markdown",
   "metadata": {}
  },
  {
   "source": [
    "---- \n",
    "## 2. Zbadaj stabilność w sensie BIBO\n",
    "---- \n",
    "| | |\n",
    "|------------------------------------------|------------------------------------|\n",
    "|$$H(s) = {{s^2-2s+3} \\over {s^2+2s+ 1}}$$  |  $$H(s) = {{s^2+1}\\over{s^2+3s+1}}$$|\n",
    "|$$ H(s) = {{1} \\over {s^2 + 2}} $$  |$$ H(s) = {{1} \\over {s^2 +8s+15}} $$|\n",
    "|$$ H(s) = {{s^2-2s+3} \\over {s^2 + 2}} $$  |$$ H(s) = {{1} \\over {s^2 +6s-7}} $$|\n",
    "|$$ H(s) = {{s + 2} \\over {s + 1}} $$  |$$ H(s) = {{1} \\over {s+1}} $$|\n",
    "|$$ H(s) = {{s - 1} \\over {s + 1}} $$|$$ H(s) = {{1} \\over {s-1}} $$|\n",
    "|$$ H(s) = {{2s+3} \\over {s^2 + 4s + 4}} $$|$$ H(s) = {{s+1} \\over {s+ 2}} $$|\n",
    "|$$ H(s) = {{s^4+2s^3+2s^2+2} \\over {s^3-2s^2 + 4s + 1}} $$|$$ H(s) = {{s-1} \\over {s+ 2}} $$|\n",
    "W tym celu zdefiniuj wektor złożony ze współczynników przy każdej zmiennej s do stopnia danego wielomianu. Wykorzystaj funkcję np.poly1d oraz np.roots. Uwaga, jeśli dla układu definiujemy transmitancję jako współczynniki licznika i mianownika (num, den), to współczynniki powinny być podane w kolejności malejącego wykładnika (np. s^2 + 3s + 5 byłyby reprezentowane jako [1, 3, 5]). W miejsce R i C podstaw wartości jednostkowe. Przedstaw położenie biegunów na płąszczyźnie zespolonej krzyżykami. \n"
   ],
   "cell_type": "markdown",
   "metadata": {}
  },
  {
   "cell_type": "code",
   "execution_count": null,
   "metadata": {
    "tags": []
   },
   "outputs": [],
   "source": [
    "#define list of denominators\n",
    "denominators = [  ]\n",
    "\n",
    "#for each denominator from list - calculate roots\n"
   ]
  },
  {
   "cell_type": "markdown",
   "metadata": {},
   "source": [
    "----\n",
    "## 3. Sprawdź właściwości systemów\n",
    "-----------------\n",
    "* na 1. wykresie umieść charakterystyki amplitudowe wszystkich układów\n",
    "* na 2. wykresie umieść charakterystyki fazowe wszystkich układów\n",
    "* na 3. wykresie zaznacz połóożenie zer biegonów dla wszystkich układów\n",
    "\n",
    "Transmitancje układów:\n",
    "$$H_1(s) = {{s^2+6s+8} \\over {s^2+2s+ 3}}$$\n",
    "$$H_2(s) = {{s^2-2s-8} \\over {s^2+2s+ 3}}$$\n",
    "$$H_3(s) = {{s^2-6s+8} \\over {s^2+2s+ 3}}$$\n",
    "$$H_4(s) = {{s^2+2s-8} \\over {s^2+2s+ 3}}$$\n",
    "\n",
    "Wskaż układ minimalnofazowy\n",
    "\n"
   ]
  },
  {
   "cell_type": "code",
   "execution_count": null,
   "metadata": {},
   "outputs": [],
   "source": [
    "#define list of numerators\n",
    "numerators = [[1, 6, 8],\n",
    "              [1,-2,-8],\n",
    "              [1,-6, 8],\n",
    "              [1, 2,-8]\n",
    "]\n",
    "#define denominator\n",
    "denominator = [1, 2, 3]\n",
    "\n",
    "\n",
    "figMP, axsMP = plt.subplots(1, 2, figsize=default_figsize)\n",
    "figZP, axZP  = plt.subplots(1, 1, figsize=poles_figsize  )\n",
    "\n",
    "for idx, numerator in enumerate(numerators):\n",
    "    #charakterystyka amplitudowa \n",
    "    #charakterystyka fazowa\n",
    "    #zera transmitancji\n",
    "\n",
    "axsMP[0].set_title(\"charakterystyka amplitudowa\")\n",
    "axsMP[0].set_xlabel(\"ω\")\n",
    "axsMP[0].set_ylabel(\"|H(jω)|\")\n",
    "axsMP[0].grid()\n",
    "axsMP[1].set_title(\"charakterystyka fazowa\")\n",
    "axsMP[1].set_xlabel(\"ω\")\n",
    "axsMP[1].set_ylabel(\"φ(ω)\")\n",
    "axsMP[1].grid()\n",
    "figMP.legend()\n",
    "figMP.tight_layout()\n",
    "figMP.show()\n",
    "\n",
    "axZP.set_title(\"bieguny(x) i zera (o) transmitancji\")\n",
    "axZP.set_xlabel(\"Re\")\n",
    "axZP.set_ylabel(\"Im\") \n",
    "axZP.grid()\n",
    "figZP.tight_layout()\n",
    "figZP.show()"
   ]
  }
 ],
 "metadata": {
  "kernelspec": {
   "display_name": "Python 3",
   "language": "python",
   "name": "python3"
  },
  "language_info": {
   "codemirror_mode": {
    "name": "ipython",
    "version": 3
   },
   "file_extension": ".py",
   "mimetype": "text/x-python",
   "name": "python",
   "nbconvert_exporter": "python",
   "pygments_lexer": "ipython3",
   "version": "3.7.7-final"
  }
 },
 "nbformat": 4,
 "nbformat_minor": 4
}