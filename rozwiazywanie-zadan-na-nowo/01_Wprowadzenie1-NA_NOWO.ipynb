{
 "cells": [
  {
   "cell_type": "markdown",
   "metadata": {},
   "source": [
    "----\n",
    "# Wprowadzenie - część 1\n",
    "----\n",
    "Materiały dydaktyczne przeznaczone są wyłącznie dla studentów wydziału Informatyki i Telekomunikacji Politechniki Poznańskiej  "
   ]
  },
  {
   "cell_type": "markdown",
   "metadata": {},
   "source": [
    "## 0. Zagadnienia do opanowania przed zajęciami\n",
    "### 0.1. Zapoznanie z podstawami językiem programowania *Python*\n",
    "https://www.w3schools.com/python/python_intro.asp  \n",
    "### 0.2. Zapoznanie z postawami biblioteki *numpy*\n",
    "https://www.w3schools.com/python/numpy_intro.asp  \n",
    "https://numpy.org/devdocs/user/quickstart.html  \n",
    "### 0.3. Zapoznanie z postawami biblioteki *sympy*\n",
    "https://docs.sympy.org/latest/tutorial/index.html\n",
    "### 0.4. Przydatne informacje:\n",
    "Funkcje z biblioteki *numpy* potrzebne do zrealizowania ćwiczenia:  \n",
    "`numpy.linspace, numpy.sin, numpy.min, numpy.max, numpy.random.uniform, numpy.random.normal, numpy.poly1d, numpy.polymul, numpy.polyder, numpy.polyval`  \n",
    "Dokumentacja i opisy poszczególnych funkcji *numpy*:  \n",
    "https://numpy.org/doc/stable/reference/    \n",
    "\n",
    "Funkcje z biblioteki *matplotlib* potrzebne do zrealizowania ćwiczenia:  \n",
    "`matplotlib.pyplot.figure, matplotlib.pyplot.plot, matplotlib.pyplot.xlabel, matplotlib.pyplot.ylabel, matplotlib.pyplot.grid, atplotlib.pyplot.axis, matplotlib.pyplot.subplot`  \n",
    "Dokumentacja i opisy poszczególnych funkcji *matplotlib*:  \n",
    "https://matplotlib.org/3.3.1/api/_as_gen/matplotlib.pyplot.html#module-matplotlib.pyplot\n",
    "\n",
    "\n"
   ]
  },
  {
   "cell_type": "code",
   "execution_count": null,
   "metadata": {},
   "outputs": [],
   "source": [
    "%matplotlib inline\n",
    "import numpy as np\n",
    "import matplotlib.pyplot as plt\n",
    "default_figsize=(14, 8)"
   ]
  },
  {
   "cell_type": "markdown",
   "metadata": {},
   "source": [
    "----\n",
    "## 1. Rysowanie wykresów\n",
    "----\n",
    "### Zadanie: Narysuj wykres jednego okresu funkcji $f(\\omega) = sin(\\omega + \\frac{\\pi}{4})$\n",
    "* zmień kolor wykresu\n",
    "* dodaj opisy osi i tytuł wykresu\n",
    "* zastosuj 10% marginesy"
   ]
  },
  {
   "cell_type": "code",
   "execution_count": null,
   "metadata": {},
   "outputs": [],
   "source": [
    "def introduction_plot_sinus():\n",
    "    #narysuj wykres    \n",
    "    #dodaj opisy osi i tytuł wykresu    \n",
    "    #zastosować 10% marginesy\n",
    "    return\n",
    "    \n",
    "introduction_plot_sinus()"
   ]
  },
  {
   "cell_type": "markdown",
   "metadata": {},
   "source": [
    "----\n",
    "## 2. Podział okna wykresu\n",
    "----\n",
    "### Zadanie: Używając „subplot” narysuj wykres 3 funkcji w następujący sposób:\n",
    "(dla x w zakresie $<-0,2\\pi>$)\n",
    "<table>\n",
    "  <tr>\n",
    "    <td colspan=\"2\" bgcolor=\"blue\" width=\"200\" height=\"100\" style=\"color: white; text-align:center\">sin(x)</td>\n",
    "  </tr>\n",
    "  <tr>\n",
    "    <td bgcolor=\"red\" width=\"100\" height=\"100\" style=\"color: white; text-align:center\">cos(x)</td>\n",
    "    <td bgcolor=\"green\" width=\"100\" height=\"100\" style=\"color: white; text-align:center\">arctan(x)</td>\n",
    "  </tr>\n",
    "</table>"
   ]
  },
  {
   "cell_type": "code",
   "execution_count": null,
   "metadata": {},
   "outputs": [],
   "source": [
    "def introduction_plot_subplot():\n",
    "    #narysuj wykres\n",
    "    return\n",
    "    \n",
    "introduction_plot_subplot()"
   ]
  },
  {
   "cell_type": "markdown",
   "metadata": {},
   "source": [
    "---- \n",
    "## 3. Operacje na wielomianach\n",
    "---- \n",
    "### Dla zdefiniowanych wielomianów:  \n",
    "$ a(x) = x^4 + x^3 - x^2 - 1 $  \n",
    "$ b(x) = x^3 - x + 1 $  \n",
    "$ c(x) = x^5 - x^4 + x^3 - 1 $  \n",
    "### Wylicz:  \n",
    "$ d(x) = a(x) \\cdot c(x)$  \n",
    "$ e(x) = \\frac{\\partial d(x)}{\\partial x}$  \n",
    "$ f(x) = e(x) + b(x) - x^{3}$  \n",
    "### Narysuj wykres wielomianu $f(x)$ dla $x\\in<-1,1>$\n"
   ]
  },
  {
   "cell_type": "code",
   "execution_count": null,
   "metadata": {
    "tags": []
   },
   "outputs": [],
   "source": [
    "def introduction_plot_polynomial():\n",
    "    #wykonaj operacje na wielomianach\n",
    "    #wyświetl wielomiany\n",
    "    #narysuj wykres\n",
    "    return\n",
    "\n",
    "introduction_plot_polynomial()"
   ]
  },
  {
   "cell_type": "markdown",
   "metadata": {},
   "source": [
    "---- \n",
    "## 4. Sympy - moduł obliczeń symbolicznych\n",
    "---- \n",
    "Funkcje z biblioteki sympy potrzebne do zrealizowania ćwiczenia:  \n",
    "* deklaracja zmienej symbolicznej `t = sympy.Symbol('t')`, opcjonalnie z dodatkowymi atrybutami np. `t = sympy.Symbol('t', real=True)`.  \n",
    "* wyznaczanie całki nieoznaczonej  $\\int x^2 dx$ `sympy.integrate(x**2, x)`  \n",
    "* wyznaczanie całki oznaczonej $\\int_{a}^{b} x^2 dx$ `sympy.integrate(x**2, (x, a, b))`  \n",
    "* wyświetlanie sformatowanego wyniku `display(  )`  \n",
    "  \n",
    "Wyznacz $\\int t^2 dt$ oraz $\\int_{-1}^{1} t^2 dt$ i wyświetl wyniki."
   ]
  },
  {
   "cell_type": "code",
   "execution_count": null,
   "metadata": {},
   "outputs": [],
   "source": [
    "def introduction_symbolic():\n",
    "    #zadeklaruj zmienną t\n",
    "    #wyznacz i wyświetl całkę nieoznaczoną\n",
    "    #wyznacz i wyświetl całkę oznaczoną\n",
    "    return\n",
    "\n",
    "introduction_symbolic()"
   ]
  },
  {
   "cell_type": "markdown",
   "metadata": {},
   "source": [
    "----\n",
    "## 5. Rozkłady statystyczne (zadanie dodatkowe)\n",
    "----\n",
    "### Zadanie: Wygeneruj wektor 100 000 elementów i wykreśl histogram składający się z 50 przedziałów\n",
    "* wartości o rozkładzie równomiernym <-1; 1> \n",
    "* wartości o rozkładzie normalnym µ=0, σ=0.5"
   ]
  },
  {
   "cell_type": "code",
   "execution_count": null,
   "metadata": {},
   "outputs": [],
   "source": [
    "def introduction_plot_histogram():\n",
    "    #wygeneruj wektory elementów\n",
    "    #narysuj histogramy\n",
    "    return    \n",
    "    \n",
    "introduction_plot_histogram()"
   ]
  },
  {
   "source": [
    "---- \n",
    "## 6. THE END\n",
    "---- "
   ],
   "cell_type": "markdown",
   "metadata": {}
  }
 ],
 "metadata": {
  "kernelspec": {
   "display_name": "Python 3",
   "language": "python",
   "name": "python3"
  },
  "language_info": {
   "codemirror_mode": {
    "name": "ipython",
    "version": 3
   },
   "file_extension": ".py",
   "mimetype": "text/x-python",
   "name": "python",
   "nbconvert_exporter": "python",
   "pygments_lexer": "ipython3",
   "version": "3.7.7-final"
  }
 },
 "nbformat": 4,
 "nbformat_minor": 4
}