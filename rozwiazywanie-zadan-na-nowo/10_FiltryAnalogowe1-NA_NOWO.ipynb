{
 "metadata": {
  "language_info": {
   "codemirror_mode": {
    "name": "ipython",
    "version": 3
   },
   "file_extension": ".py",
   "mimetype": "text/x-python",
   "name": "python",
   "nbconvert_exporter": "python",
   "pygments_lexer": "ipython3",
   "version": "3.8.3-final"
  },
  "orig_nbformat": 2,
  "kernelspec": {
   "name": "python3",
   "display_name": "Python 3",
   "language": "python"
  }
 },
 "nbformat": 4,
 "nbformat_minor": 2,
 "cells": [
  {
   "source": [
    "----\n",
    "# Laboratorium 10 - Filtry analogowe, część 1\n",
    "\n",
    "----\n",
    "Materiały dydaktyczne przeznaczone są wyłącznie dla studentów wydziału Informatyki i Telekomunikacji Politechniki Poznańskie"
   ],
   "cell_type": "markdown",
   "metadata": {}
  },
  {
   "source": [
    "----\n",
    "## 0. Zagadnienia do opanowania przed zajęciami\n",
    "----\n",
    "### 0.1. Obsługa języka Python oraz bibliotek `numpy`, `matplotlib`, `imageio` oraz `scipy.signal`.\n",
    "### 0.2. Przypomnienie wiadomości o filtrach analogowych\n",
    "### 0.3. Moduł transmitancji i tłumienie\n",
    "### 0.4.  Gabaryty filtru\n",
    "### 0.5.  Aproksymacje Butterwortha, Czebyszewa (1 i 2 rodzaju) i Cauera (eliptyczna)\n"
   ],
   "cell_type": "markdown",
   "metadata": {}
  },
  {
   "cell_type": "code",
   "execution_count": null,
   "metadata": {},
   "outputs": [],
   "source": [
    "%matplotlib inline\n",
    "import sympy \n",
    "import scipy.signal \n",
    "import numpy as np\n",
    "import matplotlib.pyplot as plt "
   ]
  },
  {
   "source": [
    "\n",
    "\n",
    "----\n",
    "\n",
    "### Zadanie 1\n",
    "\n",
    "Zaprojektować 5 dolnoprzepustowych filtrów (analogowych):\n",
    "    - aproksymacji Butterwortha   \n",
    "    - rząd filtru n (dla n od 1 do 5)  \n",
    "    - pulsacja graniczna ω=1 rad/s  \n",
    "    - wykreślić charakterystyki amplitudowe (na jednym wykresie) oraz tłumienia (na jednym, innym wykresie)\n",
    "    - odczytać z wykresu nachylenie charakterystyki amplitudowej w paśmie zaporowym  (dB/oct)\n",
    "\n",
    "Podpowiedz:  \n",
    "    - wykorzystaj funkcję `scipy.signal.butter`, pamiętaj aby zaprojektować filtr analogowy  \n",
    "    - do wyznaczenia próbek transmitancji uzyj funkcji `scipy.signal.freqs`"
   ],
   "cell_type": "markdown",
   "metadata": {}
  },
  {
   "cell_type": "code",
   "execution_count": null,
   "metadata": {},
   "outputs": [],
   "source": [
    "n  = 5\n",
    "wp = 1\n",
    "fig, axs = plt.subplots(2, 1, figsize=[6*n,12])    \n",
    "#log w vector\n",
    "w = np.logspace(-2,2,10000)\n",
    "\n",
    "for i in range(1,n+1):    \n",
    "    #design filter\n",
    "\n",
    "    #calculate transmitance samples and magnitude characteristic\n",
    "\n",
    "    #calculate Attenuation \n",
    "\n",
    "    #calculate attenuation per octave\n",
    "\n",
    "    #display magnitude characteristic\n",
    "    axs[0].loglog(w,   )\n",
    "    axs[0].set_title(\"charakterystyka amplitudowa (n = %d)\"%(i))\n",
    "    axs[0].set_xlabel(\"ω\")\n",
    "    axs[0].set_ylabel(\"|H(jω)|\")\n",
    "    axs[0].grid()\n",
    "    axs[1].semilogx(w,   )\n",
    "    axs[1].set_title(\"charakterystyka tłumienia (n = %d)\"%(i))\n",
    "    axs[1].set_xlabel(\"ω\")\n",
    "    axs[1].set_ylabel(\"-20log10(|H(jω)|)\")\n",
    "    axs[1].grid()"
   ]
  },
  {
   "source": [
    "### Zadanie 2\n",
    "\n",
    "Zaprojektować 5 dolnoprzepustowych filtrów (analogowych):\n",
    "    - aproksymacji Czebyszewa I rodzaju   \n",
    "    - rząd filtru n (dla n od 1 do 5)  \n",
    "    - maksymalne tłumienie w pasmie przepustowym 1 dB (rp, ripple).  \n",
    "    - pulsacja graniczna ω=1 rad/s  \n",
    "    - wykreślić charakterystyki amplitudowe (na jednym wykresie) oraz tłumienia (na jednym, innym wykresie)  \n",
    "    - odczytać z wykresu nachylenie charakterystyki amplitudowej w paśmie zaporowym  (dB/oct)\n",
    "\n",
    "Podpowiedź:  \n",
    "    - wykorzystaj funkcję `scipy.signal.cheby1`, pamiętaj aby zaprojektować filtr analogowy, maksymalne tętnienie (rp, ripple) oznacza  maksymalne tłumienie w paśmie przepustowym  \n",
    "    - do wyznaczenia próbek transmitancji uzyj funkcji `scipy.signal.freqs`"
   ],
   "cell_type": "markdown",
   "metadata": {}
  },
  {
   "cell_type": "code",
   "execution_count": null,
   "metadata": {},
   "outputs": [],
   "source": [
    "n  = 5\n",
    "wp = 1\n",
    "fig, axs = plt.subplots(2, 1, figsize=[6*n,12])    \n",
    "#log w vector\n",
    "w = np.logspace(-2,2,10000)\n",
    "\n",
    "for i in range(1,n+1):    \n",
    "    #design filter\n",
    "\n",
    "    #calculate transmitance samples and magnitude characteristic\n",
    "\n",
    "    #calculate Attenuation \n",
    "\n",
    "    #calculate attenuation per octave\n",
    "    \n",
    "    #display magnitude characteristic\n",
    "    axs[0].loglog(w,   )\n",
    "    axs[0].set_title(\"charakterystyka amplitudowa (n = %d)\"%(i))\n",
    "    axs[0].set_xlabel(\"ω\")\n",
    "    axs[0].set_ylabel(\"|H(jω)|\")\n",
    "    axs[0].grid()\n",
    "    axs[1].semilogx(w,   )\n",
    "    axs[1].set_title(\"charakterystyka tłumienia (n = %d)\"%(i))\n",
    "    axs[1].set_xlabel(\"ω\")\n",
    "    axs[1].set_ylabel(\"-20log10(|H(jω)|)\")\n",
    "    axs[1].grid()"
   ]
  },
  {
   "source": [
    "### Zadanie 3  \n",
    "Porównać charakterystyki amplitudowe i fazowe dla aproksymacji Butterwortha i Czebyszewa I rodzaju:\n",
    "    - rząd filtru n = 5  \n",
    "    - pulsacja graniczna ω=1 rad/s  \n",
    "    - maksymalne tłumienie w pasmie przepustowym 1 dB (rp, ripple).  \n",
    "    - wykreślić charakterystyki amplitudowe (na jednym wykresie)  \n",
    "    - wykreślić charakterystyki fazowe (na jednym wykresie)  \n",
    "    - odczytać z wykresu nachylenie charakterystyki amplitudowej w paśmie zaporowym  (dB/oct)"
   ],
   "cell_type": "markdown",
   "metadata": {}
  },
  {
   "cell_type": "code",
   "execution_count": null,
   "metadata": {},
   "outputs": [],
   "source": [
    "n  = 5\n",
    "wp = 1\n",
    "fig, axs = plt.subplots(2, 1, figsize=[12,12])    \n",
    "#log w vector\n",
    "w = np.logspace(-2,2,10000)\n",
    "\n",
    "#Butterworth\n",
    "#design filter\n",
    "\n",
    "#calculate transmitance samples and magnitude characteristic\n",
    "\n",
    "#calculate phase \n",
    "\n",
    "#display magnitude characteristic\n",
    "axs[0].loglog(w,     )\n",
    "axs[0].set_title(\"charakterystyka amplitudowa\")\n",
    "axs[0].set_xlabel(\"ω\")\n",
    "axs[0].set_ylabel(\"|H(jω)|\")\n",
    "axs[0].grid()\n",
    "axs[1].semilogx(w,   )\n",
    "axs[1].set_title(\"charakterystyka fazowa\")\n",
    "axs[1].set_xlabel(\"ω\")\n",
    "axs[1].set_ylabel(\"φ(ω)\")\n",
    "axs[1].grid()\n",
    "\n",
    "#cheby\n",
    "#design filter\n",
    "\n",
    "#calculate transmitance samples and magnitude characteristic\n",
    "\n",
    "#calculate phase \n",
    "\n",
    "#display magnitude characteristic\n",
    "axs[0].loglog(w,    ) \n",
    "axs[0].set_title(\"charakterystyka amplitudowa\")\n",
    "axs[0].set_xlabel(\"ω\")\n",
    "axs[0].set_ylabel(\"|H(jω)|\")\n",
    "axs[0].grid()\n",
    "axs[1].semilogx(w,  )\n",
    "axs[1].set_title(\"charakterystyka fazowa\")\n",
    "axs[1].set_xlabel(\"ω\")\n",
    "axs[1].set_ylabel(\"φ(ω)\")\n",
    "axs[1].grid()"
   ]
  },
  {
   "source": [
    "### Zadanie 4\n",
    "\n",
    "Wyznaczanie minimalnego wymaganego rzędu filtru:  \n",
    " ### gabaryty: \n",
    " - a)   αp= 3 dB, αs= 80 dB, ωp= 3 rad/s, ωs= 8 rad/s  \n",
    " - b)   αp= 0,5 dB, αs= 100 dB, ωp= 2 rad/s, ωs= 3 rad/s\n",
    "### filtry:  \n",
    " - Butterwortha\n",
    " - Czebyszewa I rodzaju\n",
    " - Czebyszewa II rodzaju\n",
    " - Cauer (eliptyczny)\n",
    "\n",
    "### Podpowiedź : \n",
    " - użyj funkcji: `scipy.signal.buttord`, `scipy.signal.cheb1ord`, `scipy.signal.cheb2ord`, `scipy.signal.ellipord`"
   ],
   "cell_type": "markdown",
   "metadata": {}
  },
  {
   "cell_type": "code",
   "execution_count": null,
   "metadata": {},
   "outputs": [],
   "source": [
    "# I - case\n",
    "# αp= 3 dB, αs= 80 dB, ωp= 3 rad/s, ωs= 8 rad/s \n",
    "\n",
    "# II-nd case\n",
    "# αp= 0,5 dB, αs= 100 dB, ωp= 2 rad/s, ωs= 3 rad/s\n"
   ]
  },
  {
   "source": [
    "### Zadanie 5   \n",
    "\n",
    "Korzystając z napisanej w zadaniu 5 funkcji powtórz zadania 1-4 dla filtru górnoprzepustowego.\n",
    "\n",
    "### Podpowiedź \n",
    "- zmień parametr `btype` poszczególnych funkcji na \"high\"\n",
    "- pamiętaj, aby zmienić pulsację przy wyznaczniu tłumienia na oktawę tak, aby obliczać je w obszarze zaporowym\n",
    " "
   ],
   "cell_type": "markdown",
   "metadata": {}
  },
  {
   "source": [
    "### Zadanie 6 \n",
    "\n",
    "Napisz funkcję:\n",
    " - wyliczającą rząd filtru dla danej aproksymacji \n",
    " - projektującą filtr (transmitancja) \n",
    " - wykreślanie charakterystyk amplitudowych filtrów wraz z liniami odpowiadającymi gabarytom filtrów \n",
    "\n",
    "#### Paniętaj, że dla filtru Czebyszewa II typu, funkcja projektująca transmitancję filtru przyjmuje wartość `ws` jako argument o nazwie `wn` (patrz dokumentacja)\n",
    "\n",
    "Wyświetl filtry a) i b) z zadania 4 dla wszystkich aproksymacji (na jednym wykresie charakterystyki dla danych gabarytów)"
   ],
   "cell_type": "markdown",
   "metadata": {}
  },
  {
   "cell_type": "code",
   "execution_count": null,
   "metadata": {},
   "outputs": [],
   "source": [
    "def designFilter(charType =  'butt',type = 'low', wp = 3,ws = 8, gpass = 3, gstop = 80) : \n",
    "    #find order and design filter\n",
    "    \n",
    "    #display characteristics\n",
    "    \n",
    "    return\n",
    "designFilter(charType =  'butt',type = 'low', wp = 3,ws = 8, gpass = 3, gstop = 80)\n"
   ]
  },
  {
   "cell_type": "code",
   "execution_count": null,
   "metadata": {},
   "outputs": [],
   "source": []
  }
 ]
}