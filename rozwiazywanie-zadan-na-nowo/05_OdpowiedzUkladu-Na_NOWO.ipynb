{
 "cells": [
  {
   "cell_type": "markdown",
   "metadata": {},
   "source": [
    "----\n",
    "# Laboratorium 5 - Wpływ położenia biegunów na odpowiedź impulsową w układzie RLC II rzędu\n",
    "----\n",
    "Materiały dydaktyczne przeznaczone są wyłącznie dla studentów Wydziału Informatyki i Telekomunikacji Politechniki Poznańskiej "
   ]
  },
  {
   "cell_type": "markdown",
   "metadata": {},
   "source": [
    "----\n",
    "# 0. Zagadnienia do opanowania przed zajęciami\n",
    "----\n",
    "- odpowiedź impulsowa \n",
    "\n",
    "- miejsca zerowe wielomianu\n",
    "\n",
    "- bieguny transmitancji\n",
    "\n",
    "- transformacja Laplace'a i odwrotna transformacja Laplace'a (metoda residuów) \n",
    "\n",
    "Funkcje z biblioteki *scipy.signal* potrzebne do zrealizowania ćwiczenia:  \n",
    "`scipy.signal.freqresp`, `scipy.signal.signal.tf2ss`,  `scipy.signal.impulse`\n",
    "\n",
    "Dokumentacja i opisy poszczególnych funkcji *scipy.signal*:  \n",
    "https://docs.scipy.org/doc/scipy/reference/signal.html    \n",
    "\n"
   ]
  },
  {
   "cell_type": "code",
   "execution_count": null,
   "metadata": {},
   "outputs": [],
   "source": [
    "%matplotlib inline\n",
    "import numpy as np\n",
    "import matplotlib.pyplot as plt\n",
    "import scipy.signal\n",
    "import sympy\n",
    "poles_figsize  =(8, 8)\n",
    "default_figsize=(14, 8)"
   ]
  },
  {
   "cell_type": "markdown",
   "metadata": {},
   "source": [
    "----\n",
    "# 1. Wyznaczanie transmitancji operatorowej układu RLC oraz wyznaczanie biegunów transmitancji\n",
    "----\n",
    "## 1.1 Zadanie: Wyznacz transmitancję operatorową dla następującego układu I rzędu:\n",
    "\n",
    "\n",
    "Dla poniższej transmitancji układu RC I rzędu zastosowano bibliotekę Sympy wyznaczającą symbolicznie transmitancję operatorową. \n",
    "\n",
    "\n",
    "\n",
    "<img alt=\"My Image\" src=\"data:image/png;base64,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\"/>\n",
    "                         \n",
    "                         \n",
    "                         "
   ]
  },
  {
   "cell_type": "code",
   "execution_count": null,
   "metadata": {},
   "outputs": [],
   "source": [
    "#declare symbolic variable s (complex), R,L,C \n",
    "s = sympy.Symbol('s', real = 'False', nonzero = 'True')\n",
    "R = sympy.Symbol('R', real = 'True' , nonzero = 'True')\n",
    "C = sympy.Symbol('C', real = 'True' , nonzero = 'True')\n",
    "\n",
    "H1 = (1/(s*C)) / (R+(1/(s*C))) #dzielnik napięcia\n",
    "display(sympy.simplify(H1))"
   ]
  },
  {
   "cell_type": "markdown",
   "metadata": {},
   "source": [
    "----\n",
    "## 1.2 Dla wyznaczonego mianownika transmitancji wyznacz bieguny\n",
    "\n",
    "W tym celu zdefiniuj wektor złożony ze współczynników przy każdej zmiennej s do stopnia danego wielomianu. Wykorzystaj funkcję `np.poly1d` oraz `np.roots`.\n",
    "Uwaga, jeśli dla układu definiujemy transmitancję jako współczynniki licznika i mianownika (num, den), to współczynniki powinny być podane w kolejności malejącego wykładnika (np. s^2 + 3s + 5 byłyby reprezentowane jako [1, 3, 5]). W miejsce R i C podstaw wartości jednostkowe. \n",
    "Przedstaw położenie biegunów na płąszczyźnie zespolonej krzyżykami.\n"
   ]
  },
  {
   "cell_type": "code",
   "execution_count": null,
   "metadata": {
    "tags": []
   },
   "outputs": [],
   "source": [
    "B1 = np.poly1d([   1])\n",
    "A1 = np.poly1d([1, 1])\n",
    "poles1 = np.roots(A1)\n",
    "print(\"bieguny = \" + str(poles1))"
   ]
  },
  {
   "cell_type": "code",
   "execution_count": null,
   "metadata": {},
   "outputs": [],
   "source": [
    "fig, ax = plt.subplots(1, 1, figsize=poles_figsize)\n",
    "ax.plot(poles1.real, poles1.imag,'rx')\n",
    "ax.set_title(\"bieguny transmitancji\")\n",
    "ax.set_xlabel(\"Re\")\n",
    "ax.set_ylabel(\"Im\")\n",
    "ax.set_xlim([-1.2, 1.2])\n",
    "ax.set_ylim([-1.2, 1.2])\n",
    "ax.grid()\n",
    "fig.tight_layout()\n",
    "fig.show()"
   ]
  },
  {
   "cell_type": "markdown",
   "metadata": {},
   "source": [
    "----\n",
    "## 1.3 Dla układu II rzędu przedstawionego poniżej wyznacz transmitancję operatorową i wyznacz położenie biegunów. \n",
    "Dokonaj uproszczenia z wykorzystaniem funkcji `sympy.cancel`. Zwróć uwagę na różnicę między zastosowaniem funkcji `sympy.symplify` a `sympy.cancel` \n",
    "\n",
    "<br>\n",
    "<img alt=\"My Image\" src=\"data:image/png;base64,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\"/>\n",
    "\n"
   ]
  },
  {
   "cell_type": "code",
   "execution_count": null,
   "metadata": {},
   "outputs": [],
   "source": [
    "#declare symbolic variable s (complex), R,L,C\n",
    "s = sympy.Symbol('s', real = 'False', nonzero = 'True')\n",
    "R = sympy.Symbol('R', real = 'True' , nonzero = 'True')\n",
    "C = sympy.Symbol('C', real = 'True' , nonzero = 'True')\n",
    "L = sympy.Symbol('L', real = 'True' , nonzero = 'True')\n",
    "\n",
    "#H2 = "
   ]
  },
  {
   "cell_type": "code",
   "execution_count": null,
   "metadata": {
    "tags": []
   },
   "outputs": [],
   "source": [
    "C=1\n",
    "L=1\n",
    "R=1\n",
    "\n",
    "#calculate poles\n",
    "\n",
    "\n",
    "#poles2 = \n",
    "#print(\"bieguny = \" + str(poles2))\n"
   ]
  },
  {
   "cell_type": "code",
   "execution_count": null,
   "metadata": {},
   "outputs": [],
   "source": [
    "#plot poles\n",
    "\n"
   ]
  },
  {
   "cell_type": "markdown",
   "metadata": {},
   "source": [
    "---- \n",
    "## 2. Układ II rzędu - odpowiedź impulsowa i charakterystykę amplitudowo-fazowa\n",
    "---- \n",
    "### Dla układu II rzędu przedstawionego na samym początku wyznacz odpowiedź impulsową oraz wykreśl charakterystykę amplitudowo-fazową tzw. wykres Nyguista.\n",
    "\n",
    "Sprawdź na przykładzie odpowiedzi o charakterze drgań sinusoidalnych gasnących, jaki wpływ na częstotliwość charakterystyczną układu  $ \\omega_0 = {1 \\over \\sqrt {LC} }  $ ma zmiana wartości pojemności? $ \\xi $ ustaw na wartość bliską 0, ale nie zerową! \n",
    "\n",
    "Dla przypomnienia, transmitancja operatorowa układu II rzędu wyrażona za pomocą zmiennych opisujących zachowanie się odpowiedzi impulsowej\n",
    "\n",
    "$$ H(s) = {\\omega_0^2 \\over s^2+2 \\xi \\omega_0 s + \\omega_0^2}   $$\n",
    "\n",
    "Na podstawie charakterystyki amplitudowo-fazowej określ charakter częstotliwościowy filtru (dolno-, górno- , pasmowo-przepustowy)?"
   ]
  },
  {
   "cell_type": "code",
   "execution_count": null,
   "metadata": {},
   "outputs": [],
   "source": [
    "def calculateImpulseResponseFromNumDen(B, A, TimeDomain):\n",
    "    step = scipy.signal.impulse(scipy.signal.tf2ss(B, A), T=TimeDomain)[1]\n",
    "    return step"
   ]
  },
  {
   "cell_type": "code",
   "execution_count": null,
   "metadata": {},
   "outputs": [],
   "source": [
    "L=1\n",
    "C=0.2\n",
    "ξ=0.1\n",
    "\n",
    "#transmitancja\n",
    "ω0 = (1/np.sqrt(L*C))\n",
    "B  = np.poly1d([           ω0**2])\n",
    "A  = np.poly1d([1, 2*ξ*ω0, ω0**2])\n",
    "\n",
    "#odpowiedź impulsowa\n",
    "time    = np.linspace(0, 30, 2000)\n",
    "impulse = calculateImpulseResponseFromNumDen(B, A, time)\n",
    "\n",
    "figI, axI = plt.subplots(1, 1, figsize=default_figsize)\n",
    "axI.plot(time, impulse)\n",
    "axI.set_title(\"odpowiedź impulsowa\")\n",
    "axI.grid()\n",
    "figI.tight_layout()  \n",
    "figI.show()\n",
    "\n",
    "#charakterystyka amplitudowo-fazowa\n",
    "w = np.logspace(-2, 2, 10000)\n",
    "s = w * 1j\n",
    "H = B(s) / A(s)\n",
    "\n",
    "figAF, axAF = plt.subplots(1, 1, figsize=poles_figsize)\n",
    "axAF.plot(H.real, H.imag, \"b\")\n",
    "axAF.set_title(\"charakterystyka amplitudowo-fazowa\")\n",
    "axAF.set_xlabel(\"Re\")\n",
    "axAF.set_ylabel(\"Im\") \n",
    "axAF.grid()\n",
    "figAF.tight_layout()  \n",
    "figAF.show()"
   ]
  },
  {
   "cell_type": "markdown",
   "metadata": {},
   "source": [
    "---- \n",
    "## 3. Analiza zmiany charakteru odpowiedzi impulsowej oraz zmiany położenia biegunów w funkcji zmiany wartości współczynnika tłumienia \n",
    "---- \n",
    "\n",
    "Na jednym wykresie zebrać odpowiedzi impulsowe dla przypadków: \n",
    "\n",
    "$\\begin{align}\n",
    "& \\text {a)  }  0 < \\xi < 1 \\text { - drgan sinusoidalnych gasnacych} \\\\\n",
    "& \\text {b)  }  \\xi = 0 \\text { - drgan sinusoidalnych (generator)} \\\\\n",
    "& \\text {c)  }  \\xi = 1 \\text { - przypadku aperiodyczo-krytycznego} \\\\\n",
    "& \\text {d)  }  \\xi > 1 \\text { - przypadku przetlumionego}\n",
    " \\end{align}$\n",
    "\n",
    "Do odpowiedniej wartości $ \\xi $ dopasuj wartości elementów R, L i C. Zalężność na $ \\xi $ jest następująca:\n",
    "\n",
    "$$ 2 \\xi = R \\sqrt {C \\over L} $$\n",
    "\n",
    "Na drugim wykresie zbierz położenia biegunów dla tych samych przypadków a)-d). Na podstawie otrzymanych wyników wyciągnąć wnioski na temat wpływu położenia biegunów transmitancji układu na jego odpowiedź impulsową? Dla każdego z przypadków odpowiedz czy odpowiedź jest stabilna w sensie BIBO?\n"
   ]
  },
  {
   "cell_type": "code",
   "execution_count": null,
   "metadata": {},
   "outputs": [],
   "source": [
    "time = np.linspace(0, 30, 2000)    \n",
    "\n",
    "Systems = { \"przetłumiony\"           : { \"R\" : 5  , \"L\" : 4, \"C\" : 1 },\n",
    "}\n",
    "\n",
    "figI, axI = plt.subplots(1, 1, figsize=default_figsize)\n",
    "figP, axP = plt.subplots(1, 1, figsize=poles_figsize  )\n",
    "\n",
    "\n",
    "for Name, Params in Systems.items():\n",
    "    R, L, C = Params[\"R\"], Params[\"L\"], Params[\"C\"]\n",
    "    \n",
    "    # B =\n",
    "    # A = \n",
    "\n",
    "    # impulse =\n",
    "    # poles   =\n",
    "\n",
    "    #plot impulse on axI\n",
    "    #plor poles on axP\n",
    "\n",
    "axI.set_title(\"odpowiedź impulsowa\")\n",
    "axI.grid()\n",
    "figI.tight_layout() \n",
    "#figI.legend()\n",
    "figI.show()\n",
    "\n",
    "axP.set_title(\"bieguny transmitancji\")\n",
    "axP.set_xlabel(\"Re\")\n",
    "axP.set_ylabel(\"Im\") \n",
    "axP.set_xlim([-1, 1])\n",
    "axP.set_ylim([-1, 1])\n",
    "axP.grid()\n",
    "figP.tight_layout() \n",
    "#figP.legend()\n",
    "figP.show()"
   ]
  },
  {
   "source": [
    "---- \n",
    "## 4. Analiza przypadku nierzeczywistego\n",
    "---- \n",
    "\n",
    "Sprawdzić jak będzie wyglądała odpowiedź impulsowa dla ujemnej wartości rezystancji np. R=-1. Wartości L i C przyjąć jednostkowe. Czy odpowiedź impulsowa jest sumowalna? Czy układ jest stabilny BIBO? Wyjaśnić czym charakteryzuje się brak możliwości posumowania odpowiedzi impulsowej."
   ],
   "cell_type": "markdown",
   "metadata": {}
  },
  {
   "cell_type": "markdown",
   "metadata": {},
   "source": [
    "---- \n",
    "## 5. Obejrzeć trójwymiarowy wykres transmitancji w funkcji zmiennej \"s\" dla przypadku drgań sinusoidalnych gasnących\n",
    "---- \n",
    "\n",
    "Zmieniając wartość rezystora R, sprawdzić zmianę położenia biegunów oraz kształ transmitancji.\n",
    "\n"
   ]
  },
  {
   "cell_type": "code",
   "execution_count": null,
   "metadata": {},
   "outputs": [],
   "source": [
    "C, L, R = 1, 1, 1\n",
    "\n",
    "B = np.poly1d([          1])\n",
    "A = np.poly1d([C*L, C*R, 1])\n",
    "\n",
    "Re     = np.linspace(-6, 6, 100)\n",
    "Im     = np.linspace(-6, 6, 100)\n",
    "RE, IM = np.meshgrid(Re, Im) #2D planes\n",
    "s      = RE + IM*1j\n",
    "H      = B(s)/A(s)\n",
    "M      = np.abs(H)\n",
    "\n",
    "fig = plt.figure(figsize=(16, 12))\n",
    "ax  = fig.gca   (projection='3d')\n",
    "srf = ax.plot_surface(RE, IM, np.log(M), cmap='Spectral', cstride=1, rstride=1)\n",
    "ax.set_xlabel(\"Re\")\n",
    "ax.set_ylabel(\"Im\")\n",
    "ax.set_zlabel(\"log(|H(jω)|)\")\n",
    "ax.set_title('Transmitancja 3D')\n",
    "ax.view_init(45, 45)\n",
    "fig.colorbar(srf) # add a color bar which maps values to colors\n",
    "fig.show()"
   ]
  }
 ],
 "metadata": {
  "kernelspec": {
   "display_name": "Python 3",
   "language": "python",
   "name": "python3"
  },
  "language_info": {
   "codemirror_mode": {
    "name": "ipython",
    "version": 3
   },
   "file_extension": ".py",
   "mimetype": "text/x-python",
   "name": "python",
   "nbconvert_exporter": "python",
   "pygments_lexer": "ipython3",
   "version": "3.7.7-final"
  }
 },
 "nbformat": 4,
 "nbformat_minor": 4
}