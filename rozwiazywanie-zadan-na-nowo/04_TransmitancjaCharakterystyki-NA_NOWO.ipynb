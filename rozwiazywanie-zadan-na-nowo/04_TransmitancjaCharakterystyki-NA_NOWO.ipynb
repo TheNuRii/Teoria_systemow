{
 "cells": [
  {
   "cell_type": "markdown",
   "metadata": {},
   "source": [
    "----\n",
    "# Laboratorium 4 - Transmitancja i charakterystyki częstotliwościowe\n",
    "----\n",
    "Materiały dydaktyczne przeznaczone są wyłącznie dla studentów wydziału Informatyki i Telekomunikacji Politechniki Poznańskiej  "
   ]
  },
  {
   "cell_type": "markdown",
   "metadata": {},
   "source": [
    "---- \n",
    "## 0. Zagadnienia do opanowania przed zajęciami\n",
    "---- \n",
    "### 0.1. Zapoznanie z postawami biblioteki *sympy*\n",
    "https://docs.sympy.org/latest/tutorial/index.html\n",
    "### 0.2. Przydatne informacje:\n",
    "Funkcje z biblioteki *sympy* potrzebne do zrealizowania ćwiczenia:  \n",
    "`sympy.Symbol, sympy.I, sympy.re(), sympy.im(), sympy.Abs, sympy.arg`\n",
    "\n",
    "Dokumentacja i opisy poszczególnych funkcji *sympy*:\n",
    "\n",
    "- https://docs.sympy.org/latest/tutorial/gotchas.html#symbols  \n",
    "- https://docs.sympy.org/latest/modules/utilities/lambdify.html\n",
    "- https://docs.sympy.org/latest/modules/functions/elementary.html\n",
    "\n"
   ]
  },
  {
   "cell_type": "markdown",
   "metadata": {},
   "source": [
    "---- \n",
    "## Transmitancje\n",
    "---- \n",
    "\n",
    "$$ H1(s) = {{s} \\over {5s + 1}} $$  \n",
    "$$ H2(s) = {{2} \\over {s + 3}} $$  \n",
    "$$ H3(s) = {{s + 2} \\over {s + 3}} $$  \n",
    "$$ H4(s) = {{s + 2} \\over {s + 1}} $$  \n",
    "$$ H5(s) = {{2s + 3} \\over {2s + 4}} $$\n",
    "$$ H6(s) = {{1} \\over {2s^2 + s + 1}} $$    "
   ]
  },
  {
   "cell_type": "code",
   "execution_count": 1,
   "metadata": {},
   "outputs": [
    {
     "name": "stderr",
     "output_type": "stream",
     "text": [
      "Matplotlib is building the font cache; this may take a moment.\n"
     ]
    },
    {
     "ename": "ModuleNotFoundError",
     "evalue": "No module named 'scipy'",
     "output_type": "error",
     "traceback": [
      "\u001b[0;31m---------------------------------------------------------------------------\u001b[0m",
      "\u001b[0;31mModuleNotFoundError\u001b[0m                       Traceback (most recent call last)",
      "Cell \u001b[0;32mIn[1], line 4\u001b[0m\n\u001b[1;32m      2\u001b[0m \u001b[38;5;28;01mimport\u001b[39;00m \u001b[38;5;21;01msympy\u001b[39;00m \n\u001b[1;32m      3\u001b[0m \u001b[38;5;28;01mimport\u001b[39;00m \u001b[38;5;21;01mnumpy\u001b[39;00m \u001b[38;5;28;01mas\u001b[39;00m \u001b[38;5;21;01mnp\u001b[39;00m\n\u001b[0;32m----> 4\u001b[0m \u001b[38;5;28;01mimport\u001b[39;00m \u001b[38;5;21;01mscipy\u001b[39;00m\u001b[38;5;21;01m.\u001b[39;00m\u001b[38;5;21;01msignal\u001b[39;00m\n\u001b[1;32m      5\u001b[0m \u001b[38;5;28;01mimport\u001b[39;00m \u001b[38;5;21;01mmatplotlib\u001b[39;00m\u001b[38;5;21;01m.\u001b[39;00m\u001b[38;5;21;01mpyplot\u001b[39;00m \u001b[38;5;28;01mas\u001b[39;00m \u001b[38;5;21;01mplt\u001b[39;00m\n\u001b[1;32m      6\u001b[0m default_figsize\u001b[38;5;241m=\u001b[39m(\u001b[38;5;241m12\u001b[39m, \u001b[38;5;241m6\u001b[39m)\n",
      "\u001b[0;31mModuleNotFoundError\u001b[0m: No module named 'scipy'"
     ]
    }
   ],
   "source": [
    "%matplotlib inline\n",
    "import sympy \n",
    "import numpy as np\n",
    "import scipy.signal\n",
    "import matplotlib.pyplot as plt\n",
    "default_figsize=(12, 6)"
   ]
  },
  {
   "cell_type": "markdown",
   "metadata": {},
   "source": [
    "----\n",
    "## 1. Charakterystyka amplitudowa i fazowa układu - metoda analityczna\n",
    "----\n",
    "### Zadanie: Wyznacz i wyświetl matematyczną postać charakterystyki amplitudowej i fazowej dla układu o podanej transmitancji operatorowej.\n",
    "Podpowiedź: użyj `sympy.I`, `sympy.re()`, `sympy.im()`  "
   ]
  },
  {
   "cell_type": "code",
   "execution_count": 8,
   "metadata": {},
   "outputs": [
    {
     "data": {
      "text/latex": [
       "$\\displaystyle \\frac{5 ω^{2}}{25 ω^{2} + 1}$"
      ],
      "text/plain": [
       "5*ω**2/(25*ω**2 + 1)"
      ]
     },
     "metadata": {},
     "output_type": "display_data"
    },
    {
     "data": {
      "text/latex": [
       "$\\displaystyle \\frac{ω}{25 ω^{2} + 1}$"
      ],
      "text/plain": [
       "ω/(25*ω**2 + 1)"
      ]
     },
     "metadata": {},
     "output_type": "display_data"
    },
    {
     "data": {
      "text/latex": [
       "$\\displaystyle \\frac{\\left|{ω}\\right|}{\\sqrt{25 ω^{2} + 1}}$"
      ],
      "text/plain": [
       "Abs(ω)/sqrt(25*ω**2 + 1)"
      ]
     },
     "metadata": {},
     "output_type": "display_data"
    },
    {
     "data": {
      "text/latex": [
       "$\\displaystyle \\arg{\\left(\\frac{i ω}{5 i ω + 1} \\right)}$"
      ],
      "text/plain": [
       "arg(I*ω/(5*I*ω + 1))"
      ]
     },
     "metadata": {},
     "output_type": "display_data"
    }
   ],
   "source": [
    "#declare symbolic variable 'ω' (omega)\n",
    "ω = sympy.Symbol('ω', real = True)\n",
    "#declare symbolic variable 's'\n",
    "s = 0 + sympy.I*ω\n",
    "\n",
    "# transmitancja układów\n",
    "h1 = s / (5*s + 1)\n",
    "\n",
    "h_r = sympy.re(h1)\n",
    "h_i = sympy.im(h1)\n",
    "# wyznaczenie części rzeczywistej i urojonej transmitancji\n",
    "display(h_r, h_i)\n",
    "# wyznaczenie modułu i argumentu transmitancji\n",
    "modulH1 = sympy.Abs(h1)\n",
    "display(modulH1)\n",
    "\n",
    "argH1 = sympy.arg(h1)\n",
    "display(argH1)\n"
   ]
  },
  {
   "cell_type": "markdown",
   "metadata": {},
   "source": [
    "----\n",
    "## 2. Charakterystyka amplitudowa i fazowa układu - metoda analityczna - wykres\n",
    "----\n",
    "### Zadanie: Sporządzić wykresy wyznaczonych wcześniej charakterystyk amplitudowej i fazowej\n",
    "Okno wykresu podziel na dwie kolumny, w lewej umieść wykres charakterystyki amplitudowej a prawej wykres charakterystyki fazowej. Dodaj opisy i tytuły. Przyjmij wartości zmiennej 'w' z zakresu od $10^{-2}$ do $10^{2}$).  \n",
    "Podpowiedź: użyj `numpy.logspace`, `sympy.lambdify`, `matplotlib.axes.Axes.loglog`, `matplotlib.axes.Axes.semilogx`"
   ]
  },
  {
   "cell_type": "code",
   "execution_count": null,
   "metadata": {},
   "outputs": [
    {
     "data": {
      "image/png": "[encoded data removed]",
      "text/plain": [
       "<Figure size 640x480 with 1 Axes>"
      ]
     },
     "metadata": {},
     "output_type": "display_data"
    }
   ],
   "source": [
    "#wykres charakterystyki amplitudowej i charakterystyki fazowej\n",
    "h1_impl = sympy.lambdify(ω, h1, \"numpy\")\n",
    "modulH1_impl = sympy.lambdify(ω, modulH1, 'numpy')\n",
    "argH1_impl = sympy.lambdify(ω, argH1, 'numpy')\n",
    "\n",
    "wartosc_omeg = np.linspace(10**(-2), 10**(2), 1000)\n",
    "#postac w skali logartmicznej\n",
    "wartosc_omeg_log = np.logspace(10**(-2), 10**(2), 1000)\n",
    "\n",
    "wartosci_amplitudy = modulH1_impl(wartosc_omeg_log)\n",
    "wartosci_faz = argH1_impl(wartosc_omeg_log)\n",
    "\n",
    "#f1, f2 = plt.subplot(2,1)\n",
    "plt.subplot(2, 1, 1)\n",
    "plt.plot(wartosc_omeg_log, wartosci_amplitudy)\n",
    "plt.grid()\n",
    "\n",
    "plt.plot(wartosc_omeg, np.degrees(wartosci_faz))\n",
    "plt.grid()\n"
   ]
  },
  {
   "cell_type": "markdown",
   "metadata": {},
   "source": [
    "----\n",
    "## 3. Charakterystyka amplitudowa i fazowa układu - metoda numeryczna\n",
    "----\n",
    "### Zadanie: Sporządzić wykresy charakterystyk amplitudowej i fazowej korzystając jedynie z biblioteki `numpy`\n",
    "Okno wykresu podziel na dwie kolumny, w lewej umieść wykres charakterystyki amplitudowej a prawej wykres charakterystyki fazowej. Dodaj opisy i tytuły. Przyjmij wartości zmiennej 'w' z zakresu od $10^{-2}$ do $10^{2}$).  \n",
    "Podpowiedź: $ H(s) = {{B(s)} \\over {A(s)}} $\n",
    "Podpowiedź: wylicz niezależnie wartości dla licznika i mianownika transmitancji  \n",
    "Podpowiedź: użyj `numpy.logspace`, `numpy.poly1d`, `numpy.abs`, `numpy.angle`, `1j`"
   ]
  },
  {
   "cell_type": "code",
   "execution_count": null,
   "metadata": {},
   "outputs": [],
   "source": [
    "#kolejny wykres charakterystyki amplitudowej i fazowej\n",
    "\n"
   ]
  },
  {
   "cell_type": "markdown",
   "metadata": {},
   "source": [
    "----\n",
    "## 4. Charakterystyka amplitudowa i fazowa układu - metoda numeryczna z użyciem funkcji `freqs` z biblioteki `scipy`\n",
    "----\n",
    "Okno wykresu podziel na dwie kolumny, w lewej umieść wykres charakterystyki amplitudowej a prawej wykres charakterystyki fazowej. Dodaj opisy i tytuły. Przyjmij wartości zmiennej 'w' z zakresu od $10^{-2}$ do $10^{2}$).  \n",
    "Podpowiedź: użyj funkcji `scipy.signal.freqs` do wyliczenia wartości transmitancji. "
   ]
  },
  {
   "cell_type": "code",
   "execution_count": null,
   "metadata": {},
   "outputs": [],
   "source": [
    "#jeszcze jeden wykres charakterystyki amplitudowej i fazowej\n",
    "\n"
   ]
  },
  {
   "cell_type": "markdown",
   "metadata": {},
   "source": [
    "---- \n",
    "## 5. Charakterystyka amplitudowo-fazowa układu\n",
    "---- \n",
    "### Zadanie: Wyznacz część rzeczywistą oraz część urojoną transmitancji układu. Sporządzić wykres charakterystyki amplitudowo-fazowej dla układu o zadanej transmitancji.\n",
    "Przyjmij wartości zmiennej 'w' z zakresu od $10^{-2}$ do $10^{2}$).  \n",
    "Podpowiedź: użyj `numpy.real()`, `numpy.imag()`"
   ]
  },
  {
   "cell_type": "code",
   "execution_count": null,
   "metadata": {},
   "outputs": [],
   "source": [
    "#dla odmiany wykres charakterystyki amplitudowo-fazowej\n",
    "\n"
   ]
  }
 ],
 "metadata": {
  "kernelspec": {
   "display_name": ".venv",
   "language": "python",
   "name": "python3"
  },
  "language_info": {
   "codemirror_mode": {
    "name": "ipython",
    "version": 3
   },
   "file_extension": ".py",
   "mimetype": "text/x-python",
   "name": "python",
   "nbconvert_exporter": "python",
   "pygments_lexer": "ipython3",
   "version": "3.13.0"
  }
 },
 "nbformat": 4,
 "nbformat_minor": 4
}
